{
 "cells": [
  {
   "cell_type": "code",
   "execution_count": 5,
   "metadata": {
    "collapsed": true
   },
   "outputs": [],
   "source": [
    "import pandas\n",
    "from sklearn.metrics import log_loss\n",
    "from sklearn.preprocessing import LabelEncoder\n",
    "from scipy.optimize import minimize"
   ]
  },
  {
   "cell_type": "code",
   "execution_count": null,
   "metadata": {
    "collapsed": true
   },
   "outputs": [],
   "source": [
    "def mixer(preds, weights=None, geo=False):\n",
    "    \n",
    "    if weights is None:\n",
    "        weights = [1.0/len(preds) for i in range(len(preds))]\n",
    "        \n",
    "    if type(weights) is float:\n",
    "        weights = [weights for i in range(len(preds))]\n",
    "        \n",
    "    assert len(weights) == len(preds)\n",
    "        \n",
    "    if geo:\n",
    "        prod = 1.0\n",
    "        \n",
    "        for pred, weight in zip(preds, weights):\n",
    "            prod *= pred**weight\n",
    "            \n",
    "        return prod ** (1/reduce(lambda x, y: x + y, weights))\n",
    "    \n",
    "    else:\n",
    "        suma = 0.0\n",
    "        \n",
    "        for pred, weight in zip(preds, weights):\n",
    "            suma += pred*weight\n",
    "            \n",
    "        return suma/reduce(lambda x, y: x + y, weights)"
   ]
  },
  {
   "cell_type": "code",
   "execution_count": 2,
   "metadata": {
    "collapsed": true
   },
   "outputs": [],
   "source": [
    "d = pandas.read_csv('../Data/train_folds.csv')"
   ]
  },
  {
   "cell_type": "code",
   "execution_count": 7,
   "metadata": {
    "collapsed": false
   },
   "outputs": [],
   "source": [
    "y = LabelEncoder().fit_transform(d['target'].iloc[d['test_fold'].values == 0])"
   ]
  },
  {
   "cell_type": "code",
   "execution_count": 8,
   "metadata": {
    "collapsed": true
   },
   "outputs": [],
   "source": [
    "d1 = pandas.read_csv('valPred_Fernando_Lasagne1_CV046100.csv')\n",
    "d2 = pandas.read_csv('valPred_Fernando_Lasagne2_CV04611.csv')\n",
    "d3 = pandas.read_csv('valPred_Fernando_Lasagne3_CV0467.csv')\n",
    "d4 = pandas.read_csv('valPred_Fernando_Lasagne4_CV04684.csv')"
   ]
  },
  {
   "cell_type": "code",
   "execution_count": 18,
   "metadata": {
    "collapsed": true
   },
   "outputs": [],
   "source": [
    "pred_list = [d1.values[:, 1:], d2.values[:, 1:], d3.values[:, 1:], d4.values[:, 1:]]"
   ]
  },
  {
   "cell_type": "code",
   "execution_count": 20,
   "metadata": {
    "collapsed": false,
    "scrolled": true
   },
   "outputs": [
    {
     "data": {
      "text/plain": [
       "  status: 0\n",
       " success: True\n",
       "    nfev: 30\n",
       "     fun: 0.44180415992337757\n",
       "       x: array([ 0.66080847,  1.19588716,  1.3012324 ,  0.64625372])\n",
       " message: 'CONVERGENCE: NORM_OF_PROJECTED_GRADIENT_<=_PGTOL'\n",
       "     jac: array([  9.99200722e-08,  -5.55111512e-08,   2.33146835e-07,\n",
       "        -4.77395901e-07])\n",
       "     nit: 5"
      ]
     },
     "execution_count": 20,
     "metadata": {},
     "output_type": "execute_result"
    }
   ],
   "source": [
    "opt = minimize(lambda x: log_loss(y, mixer(pred_list, weights=x, geo=False)),\n",
    "               x0=[1] * 4, bounds=[(0, None), (0, None), (0, None), (0, None)])\n",
    "\n",
    "opt"
   ]
  },
  {
   "cell_type": "code",
   "execution_count": 21,
   "metadata": {
    "collapsed": false
   },
   "outputs": [
    {
     "name": "stdout",
     "output_type": "stream",
     "text": [
      "('run1: ', 0.46101432250651986)\n",
      "('run2: ', 0.46111063173373545)\n",
      "('run3: ', 0.46988520315683835)\n",
      "('run4: ', 0.46841301720980577)\n",
      "('mix:  ', 0.44180415992337757)\n"
     ]
    }
   ],
   "source": [
    "preds = mixer(pred_list, weights=opt.x, geo=False)\n",
    "\n",
    "print('run1: ', log_loss(y, d1.values[:, 1:]))\n",
    "print('run2: ', log_loss(y, d2.values[:, 1:]))\n",
    "print('run3: ', log_loss(y, d3.values[:, 1:]))\n",
    "print('run4: ', log_loss(y, d4.values[:, 1:]))\n",
    "print('mix:  ', log_loss(y, preds))"
   ]
  },
  {
   "cell_type": "code",
   "execution_count": null,
   "metadata": {
    "collapsed": true
   },
   "outputs": [],
   "source": []
  }
 ],
 "metadata": {
  "kernelspec": {
   "display_name": "Python 2",
   "language": "python",
   "name": "python2"
  },
  "language_info": {
   "codemirror_mode": {
    "name": "ipython",
    "version": 2
   },
   "file_extension": ".py",
   "mimetype": "text/x-python",
   "name": "python",
   "nbconvert_exporter": "python",
   "pygments_lexer": "ipython2",
   "version": "2.7.9"
  }
 },
 "nbformat": 4,
 "nbformat_minor": 0
}
